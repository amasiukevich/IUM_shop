{
 "cells": [
  {
   "cell_type": "markdown",
   "id": "pointed-sacramento",
   "metadata": {},
   "source": [
    "# Projekt IUM"
   ]
  },
  {
   "cell_type": "markdown",
   "id": "favorite-houston",
   "metadata": {},
   "source": [
    "## Ogólne informacje"
   ]
  },
  {
   "cell_type": "markdown",
   "id": "baking-square",
   "metadata": {},
   "source": [
    "Realizujący:\n",
    "* Tomasz Słojewski\n",
    "* Anton Masiukevich"
   ]
  },
  {
   "cell_type": "markdown",
   "id": "national-medline",
   "metadata": {},
   "source": [
    "Dane otrzymane:\n",
    "* Baza użytkowników (\"users.json\")\n",
    "* Katalog produktów (\"delivery.json\")\n",
    "* Historia sesji (\"sessions.json\")\n",
    "* Dostawy produktów (\"deliveries.json\")"
   ]
  },
  {
   "cell_type": "code",
   "execution_count": 1,
   "id": "virgin-ceremony",
   "metadata": {},
   "outputs": [],
   "source": [
    "import pandas as pd\n",
    "import numpy as np\n",
    "import itertools\n",
    "import hashlib\n",
    "\n",
    "# visualization\n",
    "import matplotlib.pyplot as plt\n",
    "import seaborn as sns\n",
    "\n",
    "# sklearn\n",
    "from sklearn import linear_model\n",
    "from sklearn.linear_model import LinearRegression\n",
    "from sklearn.preprocessing import StandardScaler, PolynomialFeatures\n",
    "from sklearn.metrics import mean_absolute_error\n",
    "from sklearn.tree import DecisionTreeRegressor\n",
    "from sklearn.ensemble import RandomForestRegressor, GradientBoostingRegressor\n",
    "\n",
    "import tensorflow as tf"
   ]
  },
  {
   "cell_type": "markdown",
   "id": "ee3326b4",
   "metadata": {},
   "source": [
    "## Ustawienie ziarna"
   ]
  },
  {
   "cell_type": "code",
   "execution_count": 2,
   "id": "2a548d2a",
   "metadata": {},
   "outputs": [],
   "source": [
    "np.random.seed(0)"
   ]
  },
  {
   "cell_type": "markdown",
   "id": "e45eb178",
   "metadata": {},
   "source": [
    "## Wczytujemy przygotowane dane"
   ]
  },
  {
   "cell_type": "code",
   "execution_count": 3,
   "id": "4fd0b7c1",
   "metadata": {},
   "outputs": [
    {
     "data": {
      "text/html": [
       "<div>\n",
       "<style scoped>\n",
       "    .dataframe tbody tr th:only-of-type {\n",
       "        vertical-align: middle;\n",
       "    }\n",
       "\n",
       "    .dataframe tbody tr th {\n",
       "        vertical-align: top;\n",
       "    }\n",
       "\n",
       "    .dataframe thead th {\n",
       "        text-align: right;\n",
       "    }\n",
       "</style>\n",
       "<table border=\"1\" class=\"dataframe\">\n",
       "  <thead>\n",
       "    <tr style=\"text-align: right;\">\n",
       "      <th></th>\n",
       "      <th>Unnamed: 0</th>\n",
       "      <th>user_id</th>\n",
       "      <th>city</th>\n",
       "      <th>year</th>\n",
       "      <th>month</th>\n",
       "      <th>total_web_events</th>\n",
       "      <th>buying_events</th>\n",
       "      <th>num_dropped_monthly</th>\n",
       "      <th>sum_after_discount</th>\n",
       "      <th>next_months_sum</th>\n",
       "    </tr>\n",
       "  </thead>\n",
       "  <tbody>\n",
       "    <tr>\n",
       "      <th>0</th>\n",
       "      <td>0</td>\n",
       "      <td>102</td>\n",
       "      <td>Warszawa</td>\n",
       "      <td>2021</td>\n",
       "      <td>2</td>\n",
       "      <td>143.0</td>\n",
       "      <td>21.0</td>\n",
       "      <td>0.0</td>\n",
       "      <td>8860.9985</td>\n",
       "      <td>15647.7045</td>\n",
       "    </tr>\n",
       "    <tr>\n",
       "      <th>1</th>\n",
       "      <td>1</td>\n",
       "      <td>102</td>\n",
       "      <td>Warszawa</td>\n",
       "      <td>2021</td>\n",
       "      <td>3</td>\n",
       "      <td>157.0</td>\n",
       "      <td>31.0</td>\n",
       "      <td>0.0</td>\n",
       "      <td>15647.7045</td>\n",
       "      <td>NaN</td>\n",
       "    </tr>\n",
       "    <tr>\n",
       "      <th>2</th>\n",
       "      <td>3</td>\n",
       "      <td>102</td>\n",
       "      <td>Warszawa</td>\n",
       "      <td>2021</td>\n",
       "      <td>1</td>\n",
       "      <td>0.0</td>\n",
       "      <td>0.0</td>\n",
       "      <td>0.0</td>\n",
       "      <td>0.0000</td>\n",
       "      <td>8860.9985</td>\n",
       "    </tr>\n",
       "    <tr>\n",
       "      <th>3</th>\n",
       "      <td>12</td>\n",
       "      <td>102</td>\n",
       "      <td>Warszawa</td>\n",
       "      <td>2020</td>\n",
       "      <td>2</td>\n",
       "      <td>0.0</td>\n",
       "      <td>0.0</td>\n",
       "      <td>0.0</td>\n",
       "      <td>0.0000</td>\n",
       "      <td>NaN</td>\n",
       "    </tr>\n",
       "    <tr>\n",
       "      <th>4</th>\n",
       "      <td>13</td>\n",
       "      <td>102</td>\n",
       "      <td>Warszawa</td>\n",
       "      <td>2020</td>\n",
       "      <td>3</td>\n",
       "      <td>0.0</td>\n",
       "      <td>0.0</td>\n",
       "      <td>0.0</td>\n",
       "      <td>0.0000</td>\n",
       "      <td>NaN</td>\n",
       "    </tr>\n",
       "    <tr>\n",
       "      <th>...</th>\n",
       "      <td>...</td>\n",
       "      <td>...</td>\n",
       "      <td>...</td>\n",
       "      <td>...</td>\n",
       "      <td>...</td>\n",
       "      <td>...</td>\n",
       "      <td>...</td>\n",
       "      <td>...</td>\n",
       "      <td>...</td>\n",
       "      <td>...</td>\n",
       "    </tr>\n",
       "    <tr>\n",
       "      <th>2795</th>\n",
       "      <td>4795</td>\n",
       "      <td>301</td>\n",
       "      <td>Police</td>\n",
       "      <td>2020</td>\n",
       "      <td>10</td>\n",
       "      <td>0.0</td>\n",
       "      <td>0.0</td>\n",
       "      <td>0.0</td>\n",
       "      <td>0.0000</td>\n",
       "      <td>NaN</td>\n",
       "    </tr>\n",
       "    <tr>\n",
       "      <th>2796</th>\n",
       "      <td>4796</td>\n",
       "      <td>301</td>\n",
       "      <td>Police</td>\n",
       "      <td>2020</td>\n",
       "      <td>9</td>\n",
       "      <td>0.0</td>\n",
       "      <td>0.0</td>\n",
       "      <td>0.0</td>\n",
       "      <td>0.0000</td>\n",
       "      <td>NaN</td>\n",
       "    </tr>\n",
       "    <tr>\n",
       "      <th>2797</th>\n",
       "      <td>4797</td>\n",
       "      <td>301</td>\n",
       "      <td>Police</td>\n",
       "      <td>2020</td>\n",
       "      <td>4</td>\n",
       "      <td>0.0</td>\n",
       "      <td>0.0</td>\n",
       "      <td>0.0</td>\n",
       "      <td>0.0000</td>\n",
       "      <td>NaN</td>\n",
       "    </tr>\n",
       "    <tr>\n",
       "      <th>2798</th>\n",
       "      <td>4798</td>\n",
       "      <td>301</td>\n",
       "      <td>Police</td>\n",
       "      <td>2020</td>\n",
       "      <td>6</td>\n",
       "      <td>0.0</td>\n",
       "      <td>0.0</td>\n",
       "      <td>0.0</td>\n",
       "      <td>0.0000</td>\n",
       "      <td>NaN</td>\n",
       "    </tr>\n",
       "    <tr>\n",
       "      <th>2799</th>\n",
       "      <td>4799</td>\n",
       "      <td>301</td>\n",
       "      <td>Police</td>\n",
       "      <td>2020</td>\n",
       "      <td>8</td>\n",
       "      <td>0.0</td>\n",
       "      <td>0.0</td>\n",
       "      <td>0.0</td>\n",
       "      <td>0.0000</td>\n",
       "      <td>NaN</td>\n",
       "    </tr>\n",
       "  </tbody>\n",
       "</table>\n",
       "<p>2800 rows × 10 columns</p>\n",
       "</div>"
      ],
      "text/plain": [
       "      Unnamed: 0  user_id      city  year  month  total_web_events  \\\n",
       "0              0      102  Warszawa  2021      2             143.0   \n",
       "1              1      102  Warszawa  2021      3             157.0   \n",
       "2              3      102  Warszawa  2021      1               0.0   \n",
       "3             12      102  Warszawa  2020      2               0.0   \n",
       "4             13      102  Warszawa  2020      3               0.0   \n",
       "...          ...      ...       ...   ...    ...               ...   \n",
       "2795        4795      301    Police  2020     10               0.0   \n",
       "2796        4796      301    Police  2020      9               0.0   \n",
       "2797        4797      301    Police  2020      4               0.0   \n",
       "2798        4798      301    Police  2020      6               0.0   \n",
       "2799        4799      301    Police  2020      8               0.0   \n",
       "\n",
       "      buying_events  num_dropped_monthly  sum_after_discount  next_months_sum  \n",
       "0              21.0                  0.0           8860.9985       15647.7045  \n",
       "1              31.0                  0.0          15647.7045              NaN  \n",
       "2               0.0                  0.0              0.0000        8860.9985  \n",
       "3               0.0                  0.0              0.0000              NaN  \n",
       "4               0.0                  0.0              0.0000              NaN  \n",
       "...             ...                  ...                 ...              ...  \n",
       "2795            0.0                  0.0              0.0000              NaN  \n",
       "2796            0.0                  0.0              0.0000              NaN  \n",
       "2797            0.0                  0.0              0.0000              NaN  \n",
       "2798            0.0                  0.0              0.0000              NaN  \n",
       "2799            0.0                  0.0              0.0000              NaN  \n",
       "\n",
       "[2800 rows x 10 columns]"
      ]
     },
     "execution_count": 3,
     "metadata": {},
     "output_type": "execute_result"
    }
   ],
   "source": [
    "processed_data = pd.read_csv('processed_data.csv')\n",
    "processed_data"
   ]
  },
  {
   "cell_type": "markdown",
   "id": "10f07b0e",
   "metadata": {},
   "source": [
    "# Uczenie"
   ]
  },
  {
   "cell_type": "markdown",
   "id": "2e2836be",
   "metadata": {},
   "source": [
    "### Wybranie danych nadających się do uczenia"
   ]
  },
  {
   "cell_type": "code",
   "execution_count": 4,
   "id": "506309c9",
   "metadata": {},
   "outputs": [
    {
     "data": {
      "text/html": [
       "<div>\n",
       "<style scoped>\n",
       "    .dataframe tbody tr th:only-of-type {\n",
       "        vertical-align: middle;\n",
       "    }\n",
       "\n",
       "    .dataframe tbody tr th {\n",
       "        vertical-align: top;\n",
       "    }\n",
       "\n",
       "    .dataframe thead th {\n",
       "        text-align: right;\n",
       "    }\n",
       "</style>\n",
       "<table border=\"1\" class=\"dataframe\">\n",
       "  <thead>\n",
       "    <tr style=\"text-align: right;\">\n",
       "      <th></th>\n",
       "      <th>Unnamed: 0</th>\n",
       "      <th>user_id</th>\n",
       "      <th>city</th>\n",
       "      <th>year</th>\n",
       "      <th>month</th>\n",
       "      <th>total_web_events</th>\n",
       "      <th>buying_events</th>\n",
       "      <th>num_dropped_monthly</th>\n",
       "      <th>sum_after_discount</th>\n",
       "      <th>next_months_sum</th>\n",
       "    </tr>\n",
       "  </thead>\n",
       "  <tbody>\n",
       "    <tr>\n",
       "      <th>0</th>\n",
       "      <td>0</td>\n",
       "      <td>102</td>\n",
       "      <td>Warszawa</td>\n",
       "      <td>2021</td>\n",
       "      <td>2</td>\n",
       "      <td>143.0</td>\n",
       "      <td>21.0</td>\n",
       "      <td>0.0</td>\n",
       "      <td>8860.9985</td>\n",
       "      <td>15647.7045</td>\n",
       "    </tr>\n",
       "    <tr>\n",
       "      <th>2</th>\n",
       "      <td>3</td>\n",
       "      <td>102</td>\n",
       "      <td>Warszawa</td>\n",
       "      <td>2021</td>\n",
       "      <td>1</td>\n",
       "      <td>0.0</td>\n",
       "      <td>0.0</td>\n",
       "      <td>0.0</td>\n",
       "      <td>0.0000</td>\n",
       "      <td>8860.9985</td>\n",
       "    </tr>\n",
       "    <tr>\n",
       "      <th>14</th>\n",
       "      <td>24</td>\n",
       "      <td>103</td>\n",
       "      <td>Gdynia</td>\n",
       "      <td>2021</td>\n",
       "      <td>2</td>\n",
       "      <td>49.0</td>\n",
       "      <td>7.0</td>\n",
       "      <td>0.0</td>\n",
       "      <td>1997.3910</td>\n",
       "      <td>64.8000</td>\n",
       "    </tr>\n",
       "    <tr>\n",
       "      <th>16</th>\n",
       "      <td>27</td>\n",
       "      <td>103</td>\n",
       "      <td>Gdynia</td>\n",
       "      <td>2021</td>\n",
       "      <td>1</td>\n",
       "      <td>4.0</td>\n",
       "      <td>2.0</td>\n",
       "      <td>0.0</td>\n",
       "      <td>662.0000</td>\n",
       "      <td>1997.3910</td>\n",
       "    </tr>\n",
       "    <tr>\n",
       "      <th>20</th>\n",
       "      <td>40</td>\n",
       "      <td>103</td>\n",
       "      <td>Gdynia</td>\n",
       "      <td>2020</td>\n",
       "      <td>11</td>\n",
       "      <td>0.0</td>\n",
       "      <td>0.0</td>\n",
       "      <td>0.0</td>\n",
       "      <td>0.0000</td>\n",
       "      <td>40.4910</td>\n",
       "    </tr>\n",
       "    <tr>\n",
       "      <th>...</th>\n",
       "      <td>...</td>\n",
       "      <td>...</td>\n",
       "      <td>...</td>\n",
       "      <td>...</td>\n",
       "      <td>...</td>\n",
       "      <td>...</td>\n",
       "      <td>...</td>\n",
       "      <td>...</td>\n",
       "      <td>...</td>\n",
       "      <td>...</td>\n",
       "    </tr>\n",
       "    <tr>\n",
       "      <th>2764</th>\n",
       "      <td>4744</td>\n",
       "      <td>299</td>\n",
       "      <td>Konin</td>\n",
       "      <td>2020</td>\n",
       "      <td>11</td>\n",
       "      <td>0.0</td>\n",
       "      <td>0.0</td>\n",
       "      <td>0.0</td>\n",
       "      <td>0.0000</td>\n",
       "      <td>3587.3640</td>\n",
       "    </tr>\n",
       "    <tr>\n",
       "      <th>2772</th>\n",
       "      <td>4752</td>\n",
       "      <td>300</td>\n",
       "      <td>Gdynia</td>\n",
       "      <td>2021</td>\n",
       "      <td>2</td>\n",
       "      <td>103.0</td>\n",
       "      <td>18.0</td>\n",
       "      <td>0.0</td>\n",
       "      <td>10594.7025</td>\n",
       "      <td>13013.6235</td>\n",
       "    </tr>\n",
       "    <tr>\n",
       "      <th>2774</th>\n",
       "      <td>4755</td>\n",
       "      <td>300</td>\n",
       "      <td>Gdynia</td>\n",
       "      <td>2021</td>\n",
       "      <td>1</td>\n",
       "      <td>0.0</td>\n",
       "      <td>0.0</td>\n",
       "      <td>0.0</td>\n",
       "      <td>0.0000</td>\n",
       "      <td>10594.7025</td>\n",
       "    </tr>\n",
       "    <tr>\n",
       "      <th>2786</th>\n",
       "      <td>4776</td>\n",
       "      <td>301</td>\n",
       "      <td>Police</td>\n",
       "      <td>2021</td>\n",
       "      <td>2</td>\n",
       "      <td>176.0</td>\n",
       "      <td>29.0</td>\n",
       "      <td>0.0</td>\n",
       "      <td>12518.7370</td>\n",
       "      <td>11226.4535</td>\n",
       "    </tr>\n",
       "    <tr>\n",
       "      <th>2788</th>\n",
       "      <td>4779</td>\n",
       "      <td>301</td>\n",
       "      <td>Police</td>\n",
       "      <td>2021</td>\n",
       "      <td>1</td>\n",
       "      <td>0.0</td>\n",
       "      <td>0.0</td>\n",
       "      <td>0.0</td>\n",
       "      <td>0.0000</td>\n",
       "      <td>12518.7370</td>\n",
       "    </tr>\n",
       "  </tbody>\n",
       "</table>\n",
       "<p>886 rows × 10 columns</p>\n",
       "</div>"
      ],
      "text/plain": [
       "      Unnamed: 0  user_id      city  year  month  total_web_events  \\\n",
       "0              0      102  Warszawa  2021      2             143.0   \n",
       "2              3      102  Warszawa  2021      1               0.0   \n",
       "14            24      103    Gdynia  2021      2              49.0   \n",
       "16            27      103    Gdynia  2021      1               4.0   \n",
       "20            40      103    Gdynia  2020     11               0.0   \n",
       "...          ...      ...       ...   ...    ...               ...   \n",
       "2764        4744      299     Konin  2020     11               0.0   \n",
       "2772        4752      300    Gdynia  2021      2             103.0   \n",
       "2774        4755      300    Gdynia  2021      1               0.0   \n",
       "2786        4776      301    Police  2021      2             176.0   \n",
       "2788        4779      301    Police  2021      1               0.0   \n",
       "\n",
       "      buying_events  num_dropped_monthly  sum_after_discount  next_months_sum  \n",
       "0              21.0                  0.0           8860.9985       15647.7045  \n",
       "2               0.0                  0.0              0.0000        8860.9985  \n",
       "14              7.0                  0.0           1997.3910          64.8000  \n",
       "16              2.0                  0.0            662.0000        1997.3910  \n",
       "20              0.0                  0.0              0.0000          40.4910  \n",
       "...             ...                  ...                 ...              ...  \n",
       "2764            0.0                  0.0              0.0000        3587.3640  \n",
       "2772           18.0                  0.0          10594.7025       13013.6235  \n",
       "2774            0.0                  0.0              0.0000       10594.7025  \n",
       "2786           29.0                  0.0          12518.7370       11226.4535  \n",
       "2788            0.0                  0.0              0.0000       12518.7370  \n",
       "\n",
       "[886 rows x 10 columns]"
      ]
     },
     "execution_count": 4,
     "metadata": {},
     "output_type": "execute_result"
    }
   ],
   "source": [
    "data_to_learning = processed_data.dropna(subset=['next_months_sum'])\n",
    "data_to_learning"
   ]
  },
  {
   "cell_type": "markdown",
   "id": "4130212b",
   "metadata": {},
   "source": [
    "### Rozdzielenie danych na zbiór uczący i testowy"
   ]
  },
  {
   "cell_type": "code",
   "execution_count": 5,
   "id": "275a0f36",
   "metadata": {},
   "outputs": [
    {
     "name": "stdout",
     "output_type": "stream",
     "text": [
      "      Unnamed: 0  user_id    city  year  month  total_web_events  \\\n",
      "38            68      104  Police  2020      9               4.0   \n",
      "39            69      104  Police  2020      4              22.0   \n",
      "58            99      106  Mielec  2021      1               0.0   \n",
      "76           136      107  Police  2020     11               0.0   \n",
      "78           138      107  Police  2020      7              29.0   \n",
      "...          ...      ...     ...   ...    ...               ...   \n",
      "2737        4697      297  Mielec  2020      5              33.0   \n",
      "2741        4701      297  Mielec  2020      4              13.0   \n",
      "2746        4707      298  Gdynia  2021      1               9.0   \n",
      "2748        4717      298  Gdynia  2020      3              44.0   \n",
      "2757        4727      298  Gdynia  2020      8              18.0   \n",
      "\n",
      "      buying_events  num_dropped_monthly  sum_after_discount  next_months_sum  \n",
      "38              0.0                  0.0               0.000          141.683  \n",
      "39              3.0                  0.0            4395.060         1575.220  \n",
      "58              0.0                  0.0               0.000         8839.211  \n",
      "76              0.0                  0.0               0.000          630.453  \n",
      "78              5.0                  0.0            4295.510          328.120  \n",
      "...             ...                  ...                 ...              ...  \n",
      "2737            2.0                  0.0             208.992         2239.892  \n",
      "2741            3.0                  0.0             414.660          208.992  \n",
      "2746            1.0                  0.0              58.970          226.882  \n",
      "2748            5.0                  0.0            1349.491         2163.961  \n",
      "2757            2.0                  0.0            1511.290          503.240  \n",
      "\n",
      "[177 rows x 10 columns]\n"
     ]
    },
    {
     "data": {
      "text/html": [
       "<div>\n",
       "<style scoped>\n",
       "    .dataframe tbody tr th:only-of-type {\n",
       "        vertical-align: middle;\n",
       "    }\n",
       "\n",
       "    .dataframe tbody tr th {\n",
       "        vertical-align: top;\n",
       "    }\n",
       "\n",
       "    .dataframe thead th {\n",
       "        text-align: right;\n",
       "    }\n",
       "</style>\n",
       "<table border=\"1\" class=\"dataframe\">\n",
       "  <thead>\n",
       "    <tr style=\"text-align: right;\">\n",
       "      <th></th>\n",
       "      <th>Unnamed: 0</th>\n",
       "      <th>user_id</th>\n",
       "      <th>city</th>\n",
       "      <th>year</th>\n",
       "      <th>month</th>\n",
       "      <th>total_web_events</th>\n",
       "      <th>buying_events</th>\n",
       "      <th>num_dropped_monthly</th>\n",
       "      <th>sum_after_discount</th>\n",
       "      <th>next_months_sum</th>\n",
       "    </tr>\n",
       "  </thead>\n",
       "  <tbody>\n",
       "    <tr>\n",
       "      <th>0</th>\n",
       "      <td>0</td>\n",
       "      <td>102</td>\n",
       "      <td>Warszawa</td>\n",
       "      <td>2021</td>\n",
       "      <td>2</td>\n",
       "      <td>143.0</td>\n",
       "      <td>21.0</td>\n",
       "      <td>0.0</td>\n",
       "      <td>8860.9985</td>\n",
       "      <td>15647.7045</td>\n",
       "    </tr>\n",
       "    <tr>\n",
       "      <th>2</th>\n",
       "      <td>3</td>\n",
       "      <td>102</td>\n",
       "      <td>Warszawa</td>\n",
       "      <td>2021</td>\n",
       "      <td>1</td>\n",
       "      <td>0.0</td>\n",
       "      <td>0.0</td>\n",
       "      <td>0.0</td>\n",
       "      <td>0.0000</td>\n",
       "      <td>8860.9985</td>\n",
       "    </tr>\n",
       "    <tr>\n",
       "      <th>14</th>\n",
       "      <td>24</td>\n",
       "      <td>103</td>\n",
       "      <td>Gdynia</td>\n",
       "      <td>2021</td>\n",
       "      <td>2</td>\n",
       "      <td>49.0</td>\n",
       "      <td>7.0</td>\n",
       "      <td>0.0</td>\n",
       "      <td>1997.3910</td>\n",
       "      <td>64.8000</td>\n",
       "    </tr>\n",
       "    <tr>\n",
       "      <th>16</th>\n",
       "      <td>27</td>\n",
       "      <td>103</td>\n",
       "      <td>Gdynia</td>\n",
       "      <td>2021</td>\n",
       "      <td>1</td>\n",
       "      <td>4.0</td>\n",
       "      <td>2.0</td>\n",
       "      <td>0.0</td>\n",
       "      <td>662.0000</td>\n",
       "      <td>1997.3910</td>\n",
       "    </tr>\n",
       "    <tr>\n",
       "      <th>20</th>\n",
       "      <td>40</td>\n",
       "      <td>103</td>\n",
       "      <td>Gdynia</td>\n",
       "      <td>2020</td>\n",
       "      <td>11</td>\n",
       "      <td>0.0</td>\n",
       "      <td>0.0</td>\n",
       "      <td>0.0</td>\n",
       "      <td>0.0000</td>\n",
       "      <td>40.4910</td>\n",
       "    </tr>\n",
       "    <tr>\n",
       "      <th>...</th>\n",
       "      <td>...</td>\n",
       "      <td>...</td>\n",
       "      <td>...</td>\n",
       "      <td>...</td>\n",
       "      <td>...</td>\n",
       "      <td>...</td>\n",
       "      <td>...</td>\n",
       "      <td>...</td>\n",
       "      <td>...</td>\n",
       "      <td>...</td>\n",
       "    </tr>\n",
       "    <tr>\n",
       "      <th>2764</th>\n",
       "      <td>4744</td>\n",
       "      <td>299</td>\n",
       "      <td>Konin</td>\n",
       "      <td>2020</td>\n",
       "      <td>11</td>\n",
       "      <td>0.0</td>\n",
       "      <td>0.0</td>\n",
       "      <td>0.0</td>\n",
       "      <td>0.0000</td>\n",
       "      <td>3587.3640</td>\n",
       "    </tr>\n",
       "    <tr>\n",
       "      <th>2772</th>\n",
       "      <td>4752</td>\n",
       "      <td>300</td>\n",
       "      <td>Gdynia</td>\n",
       "      <td>2021</td>\n",
       "      <td>2</td>\n",
       "      <td>103.0</td>\n",
       "      <td>18.0</td>\n",
       "      <td>0.0</td>\n",
       "      <td>10594.7025</td>\n",
       "      <td>13013.6235</td>\n",
       "    </tr>\n",
       "    <tr>\n",
       "      <th>2774</th>\n",
       "      <td>4755</td>\n",
       "      <td>300</td>\n",
       "      <td>Gdynia</td>\n",
       "      <td>2021</td>\n",
       "      <td>1</td>\n",
       "      <td>0.0</td>\n",
       "      <td>0.0</td>\n",
       "      <td>0.0</td>\n",
       "      <td>0.0000</td>\n",
       "      <td>10594.7025</td>\n",
       "    </tr>\n",
       "    <tr>\n",
       "      <th>2786</th>\n",
       "      <td>4776</td>\n",
       "      <td>301</td>\n",
       "      <td>Police</td>\n",
       "      <td>2021</td>\n",
       "      <td>2</td>\n",
       "      <td>176.0</td>\n",
       "      <td>29.0</td>\n",
       "      <td>0.0</td>\n",
       "      <td>12518.7370</td>\n",
       "      <td>11226.4535</td>\n",
       "    </tr>\n",
       "    <tr>\n",
       "      <th>2788</th>\n",
       "      <td>4779</td>\n",
       "      <td>301</td>\n",
       "      <td>Police</td>\n",
       "      <td>2021</td>\n",
       "      <td>1</td>\n",
       "      <td>0.0</td>\n",
       "      <td>0.0</td>\n",
       "      <td>0.0</td>\n",
       "      <td>0.0000</td>\n",
       "      <td>12518.7370</td>\n",
       "    </tr>\n",
       "  </tbody>\n",
       "</table>\n",
       "<p>709 rows × 10 columns</p>\n",
       "</div>"
      ],
      "text/plain": [
       "      Unnamed: 0  user_id      city  year  month  total_web_events  \\\n",
       "0              0      102  Warszawa  2021      2             143.0   \n",
       "2              3      102  Warszawa  2021      1               0.0   \n",
       "14            24      103    Gdynia  2021      2              49.0   \n",
       "16            27      103    Gdynia  2021      1               4.0   \n",
       "20            40      103    Gdynia  2020     11               0.0   \n",
       "...          ...      ...       ...   ...    ...               ...   \n",
       "2764        4744      299     Konin  2020     11               0.0   \n",
       "2772        4752      300    Gdynia  2021      2             103.0   \n",
       "2774        4755      300    Gdynia  2021      1               0.0   \n",
       "2786        4776      301    Police  2021      2             176.0   \n",
       "2788        4779      301    Police  2021      1               0.0   \n",
       "\n",
       "      buying_events  num_dropped_monthly  sum_after_discount  next_months_sum  \n",
       "0              21.0                  0.0           8860.9985       15647.7045  \n",
       "2               0.0                  0.0              0.0000        8860.9985  \n",
       "14              7.0                  0.0           1997.3910          64.8000  \n",
       "16              2.0                  0.0            662.0000        1997.3910  \n",
       "20              0.0                  0.0              0.0000          40.4910  \n",
       "...             ...                  ...                 ...              ...  \n",
       "2764            0.0                  0.0              0.0000        3587.3640  \n",
       "2772           18.0                  0.0          10594.7025       13013.6235  \n",
       "2774            0.0                  0.0              0.0000       10594.7025  \n",
       "2786           29.0                  0.0          12518.7370       11226.4535  \n",
       "2788            0.0                  0.0              0.0000       12518.7370  \n",
       "\n",
       "[709 rows x 10 columns]"
      ]
     },
     "execution_count": 5,
     "metadata": {},
     "output_type": "execute_result"
    }
   ],
   "source": [
    "msk = np.random.rand(len(data_to_learning)) < 0.8\n",
    "train = data_to_learning[msk]\n",
    "test = data_to_learning[~msk]\n",
    "print(test)\n",
    "train"
   ]
  },
  {
   "cell_type": "markdown",
   "id": "fe159e80",
   "metadata": {},
   "source": [
    "## Uczenie modelu - model liniowy - jenda zmienna z wizualizacją"
   ]
  },
  {
   "cell_type": "markdown",
   "id": "603af659",
   "metadata": {},
   "source": [
    "### Przygotowanie wejścia/wyjścia"
   ]
  },
  {
   "cell_type": "code",
   "execution_count": 6,
   "id": "da15eb90",
   "metadata": {},
   "outputs": [],
   "source": [
    "inputs_train = train.dropna(subset=['next_months_sum'])\n",
    "# x = inputs[['user_id', 'year', 'month', 'total_web_events','buying_events', 'num_dropped_monthly', 'sum_after_discount']].values\n",
    "x = inputs_train[['sum_after_discount']].values\n",
    "y = train.next_months_sum.values\n",
    "\n",
    "inputs_tests = test.dropna(subset=['next_months_sum'])\n",
    "x_test = inputs_tests[['sum_after_discount']].values\n",
    "y_test = test.next_months_sum.values"
   ]
  },
  {
   "cell_type": "markdown",
   "id": "98740cfb",
   "metadata": {},
   "source": [
    "### Trenowanie modelu"
   ]
  },
  {
   "cell_type": "code",
   "execution_count": 7,
   "id": "09749087",
   "metadata": {},
   "outputs": [
    {
     "data": {
      "text/plain": [
       "LinearRegression()"
      ]
     },
     "execution_count": 7,
     "metadata": {},
     "output_type": "execute_result"
    }
   ],
   "source": [
    "slr_sv = LinearRegression()\n",
    "slr_sv.fit(x, y)"
   ]
  },
  {
   "cell_type": "markdown",
   "id": "d46f3149",
   "metadata": {},
   "source": [
    "### Wizualizacja"
   ]
  },
  {
   "cell_type": "code",
   "execution_count": 8,
   "id": "0880eebe",
   "metadata": {},
   "outputs": [
    {
     "data": {
      "image/png": "[encoded data removed]",
      "text/plain": [
       "<Figure size 432x288 with 1 Axes>"
      ]
     },
     "metadata": {
      "needs_background": "light"
     },
     "output_type": "display_data"
    },
    {
     "name": "stdout",
     "output_type": "stream",
     "text": [
      "błąd doapsowania do danych uczących: 2360.5650413267163\n",
      "błąd dopasowania do danych testowych:  2226.401412012742\n"
     ]
    }
   ],
   "source": [
    "# wizualizacja\n",
    "def lin_regplot(x, y, model):\n",
    "    plt.scatter(x, y, c='steelblue', edgecolor='white', s=70)\n",
    "    plt.plot(x, model.predict(x), color='black', lw=2)\n",
    "\n",
    "lin_regplot(x, y, slr_sv)\n",
    "plt.show()\n",
    "\n",
    "print(\"błąd doapsowania do danych uczących:\", mean_absolute_error(y, slr_sv.predict(x)))\n",
    "print(\"błąd dopasowania do danych testowych: \", mean_absolute_error(y_test, slr_sv.predict(x_test)))"
   ]
  },
  {
   "cell_type": "markdown",
   "id": "9116d9b5",
   "metadata": {},
   "source": [
    "## Uczenie modelu - model liniowy - wszystkie zmienne"
   ]
  },
  {
   "cell_type": "markdown",
   "id": "1418127b",
   "metadata": {},
   "source": [
    "### Przygotowanie danych"
   ]
  },
  {
   "cell_type": "code",
   "execution_count": 9,
   "id": "f0df12f7",
   "metadata": {},
   "outputs": [],
   "source": [
    "inputs_train = train.dropna(subset=['next_months_sum'])\n",
    "columns = inputs_train.columns\n",
    "columns = columns.drop('next_months_sum')\n",
    "columns = columns.drop('city')\n",
    "x = inputs_train[columns].values\n",
    "y = train.next_months_sum.values\n",
    "\n",
    "inputs_tests = test.dropna(subset=['next_months_sum'])\n",
    "columns = inputs_train.columns # - ['next_months_sum', 'city']\n",
    "columns = columns.drop('next_months_sum')\n",
    "columns = columns.drop('city')\n",
    "x_test = inputs_tests[columns].values\n",
    "y_test = test.next_months_sum.values"
   ]
  },
  {
   "cell_type": "markdown",
   "id": "a2b84887",
   "metadata": {},
   "source": [
    "### Trenowanie modelu"
   ]
  },
  {
   "cell_type": "code",
   "execution_count": 10,
   "id": "4eb547ab",
   "metadata": {},
   "outputs": [
    {
     "name": "stdout",
     "output_type": "stream",
     "text": [
      "błąd doapsowania do danych uczących: 2236.25014625736\n",
      "błąd dopasowania do danych testowych:  2072.1819912708143\n"
     ]
    }
   ],
   "source": [
    "slr = LinearRegression()\n",
    "slr.fit(x, y)\n",
    "#slr.predict(x_test)\n",
    "print(\"błąd doapsowania do danych uczących:\", mean_absolute_error(y, slr.predict(x)))\n",
    "print(\"błąd dopasowania do danych testowych: \", mean_absolute_error(y_test, slr.predict(x_test)))"
   ]
  },
  {
   "cell_type": "markdown",
   "id": "ceb9e247",
   "metadata": {},
   "source": [
    "## Uczenie modelu - model kwadratowy"
   ]
  },
  {
   "cell_type": "markdown",
   "id": "187f73a3",
   "metadata": {},
   "source": [
    "### Przygotowanie danych"
   ]
  },
  {
   "cell_type": "code",
   "execution_count": 11,
   "id": "2bc609dc",
   "metadata": {},
   "outputs": [],
   "source": [
    "inputs_train = train.dropna(subset=['next_months_sum'])\n",
    "columns = inputs_train.columns\n",
    "columns = columns.drop('next_months_sum')\n",
    "columns = columns.drop('city')\n",
    "x = inputs_train[columns].values\n",
    "y = train.next_months_sum.values\n",
    "\n",
    "inputs_tests = test.dropna(subset=['next_months_sum'])\n",
    "columns = inputs_train.columns # - ['next_months_sum', 'city']\n",
    "columns = columns.drop('next_months_sum')\n",
    "columns = columns.drop('city')\n",
    "x_test = inputs_tests[columns].values\n",
    "y_test = test.next_months_sum.values"
   ]
  },
  {
   "cell_type": "markdown",
   "id": "911c1583",
   "metadata": {},
   "source": [
    "#### Przekształcenie cech do modelu kwadratowego"
   ]
  },
  {
   "cell_type": "code",
   "execution_count": 12,
   "id": "0d2ac864",
   "metadata": {},
   "outputs": [],
   "source": [
    "quadratic = PolynomialFeatures(degree=2)\n",
    "x_quad = quadratic.fit_transform(x)\n",
    "x_test_quad = quadratic.fit_transform(x_test)"
   ]
  },
  {
   "cell_type": "markdown",
   "id": "8af0c9b6",
   "metadata": {},
   "source": [
    "### Uczenie modelu"
   ]
  },
  {
   "cell_type": "code",
   "execution_count": 13,
   "id": "4cf1727c",
   "metadata": {},
   "outputs": [
    {
     "name": "stdout",
     "output_type": "stream",
     "text": [
      "błąd doapsowania do danych uczących: 2032.0807426295266\n",
      "błąd dopasowania do danych testowych:  2095.4887358580095\n"
     ]
    }
   ],
   "source": [
    "pr = LinearRegression()\n",
    "pr.fit(x_quad, y)\n",
    "print(\"błąd doapsowania do danych uczących:\", mean_absolute_error(y, pr.predict(x_quad)))\n",
    "print(\"błąd dopasowania do danych testowych: \", mean_absolute_error(y_test, pr.predict(x_test_quad)))"
   ]
  },
  {
   "cell_type": "markdown",
   "id": "6e3da7a7",
   "metadata": {},
   "source": [
    "## Model sześcienny"
   ]
  },
  {
   "cell_type": "code",
   "execution_count": 14,
   "id": "33ef35fb",
   "metadata": {},
   "outputs": [
    {
     "name": "stdout",
     "output_type": "stream",
     "text": [
      "błąd doapsowania do danych uczących: 1856.8680092757477\n",
      "błąd dopasowania do danych testowych:  2217.368135044513\n"
     ]
    }
   ],
   "source": [
    "cubic = PolynomialFeatures(degree=3)\n",
    "x_cub = cubic.fit_transform(x)\n",
    "x_test_cub = cubic.fit_transform(x_test)\n",
    "cr = LinearRegression()\n",
    "cr.fit(x_cub, y)\n",
    "print(\"błąd doapsowania do danych uczących:\", mean_absolute_error(y, cr.predict(x_cub)))\n",
    "print(\"błąd dopasowania do danych testowych: \", mean_absolute_error(y_test, cr.predict(x_test_cub)))"
   ]
  },
  {
   "cell_type": "markdown",
   "id": "7d4db484",
   "metadata": {},
   "source": [
    "Widać, że zwiększanie złożoności modelu wielomianowego nie jest dobrym kierunkiem"
   ]
  },
  {
   "cell_type": "markdown",
   "id": "647794a1",
   "metadata": {},
   "source": [
    "## Drzewo decyzyjne"
   ]
  },
  {
   "cell_type": "markdown",
   "id": "99ab53e1",
   "metadata": {},
   "source": [
    "### Badanie optymalnej głębokości"
   ]
  },
  {
   "cell_type": "code",
   "execution_count": 15,
   "id": "5c3e508f",
   "metadata": {},
   "outputs": [
    {
     "data": {
      "image/png": "[encoded data removed]",
      "text/plain": [
       "<Figure size 432x288 with 1 Axes>"
      ]
     },
     "metadata": {
      "needs_background": "light"
     },
     "output_type": "display_data"
    }
   ],
   "source": [
    "mean_a_error_train = []\n",
    "mean_a_error_test = []\n",
    "for idx in range(1, 12):\n",
    "    tree = DecisionTreeRegressor(max_depth=idx)\n",
    "    tree.fit(x,y)\n",
    "    mean_a_error_train.append(mean_absolute_error(y, tree.predict(x)))\n",
    "    mean_a_error_test.append(mean_absolute_error(y_test, tree.predict(x_test)))\n",
    "plt.scatter(range(1, 12), mean_a_error_test)\n",
    "plt.scatter(range(1, 12), mean_a_error_train)\n",
    "plt.show()"
   ]
  },
  {
   "cell_type": "code",
   "execution_count": 16,
   "id": "02b0ba82",
   "metadata": {},
   "outputs": [
    {
     "data": {
      "image/png": "[encoded data removed]",
      "text/plain": [
       "<Figure size 432x288 with 1 Axes>"
      ]
     },
     "metadata": {
      "needs_background": "light"
     },
     "output_type": "display_data"
    }
   ],
   "source": [
    "mean_a_error_train = []\n",
    "mean_a_error_test = []\n",
    "for idx in range(1, 30):\n",
    "    tree = DecisionTreeRegressor(max_depth=4, min_samples_leaf=idx)\n",
    "    tree.fit(x,y)\n",
    "    mean_a_error_train.append(mean_absolute_error(y, tree.predict(x)))\n",
    "    mean_a_error_test.append(mean_absolute_error(y_test, tree.predict(x_test)))\n",
    "plt.scatter(range(1, 30), mean_a_error_test)\n",
    "plt.scatter(range(1, 30), mean_a_error_train)\n",
    "plt.show()"
   ]
  },
  {
   "cell_type": "markdown",
   "id": "c67fd1df",
   "metadata": {},
   "source": [
    "Na pomarańczowo jest zaznaczone MAE zbioru trenującego, a na niebiesko zbioru testowego."
   ]
  },
  {
   "cell_type": "markdown",
   "id": "0e1f7661",
   "metadata": {},
   "source": [
    "Najlepszy wynik jest dla drzewa o głębokości 4"
   ]
  },
  {
   "cell_type": "code",
   "execution_count": 17,
   "id": "7e78e7cb",
   "metadata": {},
   "outputs": [
    {
     "name": "stdout",
     "output_type": "stream",
     "text": [
      "błąd doapsowania do danych uczących: 1960.8265242317234\n",
      "błąd dopasowania do danych testowych:  1850.6399359961913\n"
     ]
    }
   ],
   "source": [
    "tree = DecisionTreeRegressor(max_depth=4, min_samples_leaf=7)\n",
    "tree.fit(x,y)\n",
    "print(\"błąd doapsowania do danych uczących:\", mean_absolute_error(y, tree.predict(x)))\n",
    "print(\"błąd dopasowania do danych testowych: \", mean_absolute_error(y_test, tree.predict(x_test)))"
   ]
  },
  {
   "cell_type": "markdown",
   "id": "91985976",
   "metadata": {},
   "source": [
    "## Las losowy"
   ]
  },
  {
   "cell_type": "code",
   "execution_count": 18,
   "id": "21fc04f0",
   "metadata": {},
   "outputs": [
    {
     "name": "stdout",
     "output_type": "stream",
     "text": [
      "błąd doapsowania do danych uczących: 1127.0930305351342\n",
      "błąd dopasowania do danych testowych:  1857.7723714863716\n"
     ]
    }
   ],
   "source": [
    "forest = RandomForestRegressor(n_estimators=500,\n",
    "                              criterion='mse',\n",
    "                              random_state=1,\n",
    "                              n_jobs=-1,\n",
    "                              min_samples_leaf=2)\n",
    "forest.fit(x,y)\n",
    "print(\"błąd doapsowania do danych uczących:\", mean_absolute_error(y, forest.predict(x)))\n",
    "print(\"błąd dopasowania do danych testowych: \", mean_absolute_error(y_test, forest.predict(x_test)))"
   ]
  },
  {
   "cell_type": "markdown",
   "id": "c6c65628",
   "metadata": {},
   "source": [
    "## Wzmacnianie gradientowe"
   ]
  },
  {
   "cell_type": "code",
   "execution_count": 19,
   "id": "b0fee5a3",
   "metadata": {},
   "outputs": [
    {
     "name": "stdout",
     "output_type": "stream",
     "text": [
      "błąd doapsowania do danych uczących: 1122.0399424401287\n",
      "błąd dopasowania do danych testowych:  1910.2213868540764\n"
     ]
    }
   ],
   "source": [
    "gbrt = GradientBoostingRegressor(max_depth=5, n_estimators=80)\n",
    "gbrt.fit(x, y)\n",
    "print(\"błąd doapsowania do danych uczących:\", mean_absolute_error(y, gbrt.predict(x)))\n",
    "print(\"błąd dopasowania do danych testowych: \", mean_absolute_error(y_test, gbrt.predict(x_test)))"
   ]
  },
  {
   "cell_type": "markdown",
   "id": "dc8b4b12",
   "metadata": {},
   "source": [
    "## Sieć neuronowa"
   ]
  },
  {
   "cell_type": "markdown",
   "id": "296a080b",
   "metadata": {},
   "source": [
    "### Zdefiniowanie modelu keras"
   ]
  },
  {
   "cell_type": "code",
   "execution_count": 20,
   "id": "7df422b0",
   "metadata": {},
   "outputs": [],
   "source": [
    "n_features = 8\n",
    "model = tf.keras.Sequential()\n",
    "model.add(tf.keras.layers.Dense(20, input_dim=n_features, activation='relu', kernel_initializer='he_normal'))\n",
    "model.add(tf.keras.layers.Dense(10, activation='relu', kernel_initializer='he_normal'))\n",
    "model.add(tf.keras.layers.Dense(1, activation='linear'))"
   ]
  },
  {
   "cell_type": "markdown",
   "id": "9aa0ece9",
   "metadata": {},
   "source": [
    "### Skompilowanie modelu"
   ]
  },
  {
   "cell_type": "code",
   "execution_count": 21,
   "id": "251ed9e1",
   "metadata": {},
   "outputs": [],
   "source": [
    "model.compile(loss='mse', optimizer='adam')"
   ]
  },
  {
   "cell_type": "code",
   "execution_count": 36,
   "id": "f31da1b9",
   "metadata": {},
   "outputs": [
    {
     "name": "stdout",
     "output_type": "stream",
     "text": [
      "Epoch 1/50\n",
      "23/23 - 0s - loss: 7525148.5000\n",
      "Epoch 2/50\n",
      "23/23 - 0s - loss: 7553048.5000\n",
      "Epoch 3/50\n",
      "23/23 - 0s - loss: 7475919.5000\n",
      "Epoch 4/50\n",
      "23/23 - 0s - loss: 7661119.0000\n",
      "Epoch 5/50\n",
      "23/23 - 0s - loss: 7637231.0000\n",
      "Epoch 6/50\n",
      "23/23 - 0s - loss: 7654941.0000\n",
      "Epoch 7/50\n",
      "23/23 - 0s - loss: 7657016.5000\n",
      "Epoch 8/50\n",
      "23/23 - 0s - loss: 7660393.0000\n",
      "Epoch 9/50\n",
      "23/23 - 0s - loss: 7514927.5000\n",
      "Epoch 10/50\n",
      "23/23 - 0s - loss: 7508771.5000\n",
      "Epoch 11/50\n",
      "23/23 - 0s - loss: 7521346.5000\n",
      "Epoch 12/50\n",
      "23/23 - 0s - loss: 7585417.0000\n",
      "Epoch 13/50\n",
      "23/23 - 0s - loss: 7848120.0000\n",
      "Epoch 14/50\n",
      "23/23 - 0s - loss: 7714915.5000\n",
      "Epoch 15/50\n",
      "23/23 - 0s - loss: 7568259.0000\n",
      "Epoch 16/50\n",
      "23/23 - 0s - loss: 7553737.5000\n",
      "Epoch 17/50\n",
      "23/23 - 0s - loss: 7549704.5000\n",
      "Epoch 18/50\n",
      "23/23 - 0s - loss: 7605648.0000\n",
      "Epoch 19/50\n",
      "23/23 - 0s - loss: 7721844.5000\n",
      "Epoch 20/50\n",
      "23/23 - 0s - loss: 7621056.5000\n",
      "Epoch 21/50\n",
      "23/23 - 0s - loss: 7530580.0000\n",
      "Epoch 22/50\n",
      "23/23 - 0s - loss: 7612533.5000\n",
      "Epoch 23/50\n",
      "23/23 - 0s - loss: 7597354.0000\n",
      "Epoch 24/50\n",
      "23/23 - 0s - loss: 7650151.5000\n",
      "Epoch 25/50\n",
      "23/23 - 0s - loss: 7771872.0000\n",
      "Epoch 26/50\n",
      "23/23 - 0s - loss: 7533839.5000\n",
      "Epoch 27/50\n",
      "23/23 - 0s - loss: 7529826.0000\n",
      "Epoch 28/50\n",
      "23/23 - 0s - loss: 7518116.5000\n",
      "Epoch 29/50\n",
      "23/23 - 0s - loss: 7556000.0000\n",
      "Epoch 30/50\n",
      "23/23 - 0s - loss: 7693583.0000\n",
      "Epoch 31/50\n",
      "23/23 - 0s - loss: 7642525.0000\n",
      "Epoch 32/50\n",
      "23/23 - 0s - loss: 7518795.0000\n",
      "Epoch 33/50\n",
      "23/23 - 0s - loss: 7594305.5000\n",
      "Epoch 34/50\n",
      "23/23 - 0s - loss: 7511495.0000\n",
      "Epoch 35/50\n",
      "23/23 - 0s - loss: 7495171.5000\n",
      "Epoch 36/50\n",
      "23/23 - 0s - loss: 7539101.0000\n",
      "Epoch 37/50\n",
      "23/23 - 0s - loss: 7640782.0000\n",
      "Epoch 38/50\n",
      "23/23 - 0s - loss: 7492475.0000\n",
      "Epoch 39/50\n",
      "23/23 - 0s - loss: 7590646.5000\n",
      "Epoch 40/50\n",
      "23/23 - 0s - loss: 7524602.5000\n",
      "Epoch 41/50\n",
      "23/23 - 0s - loss: 7665032.0000\n",
      "Epoch 42/50\n",
      "23/23 - 0s - loss: 7529322.5000\n",
      "Epoch 43/50\n",
      "23/23 - 0s - loss: 7566835.0000\n",
      "Epoch 44/50\n",
      "23/23 - 0s - loss: 7664313.5000\n",
      "Epoch 45/50\n",
      "23/23 - 0s - loss: 7644470.0000\n",
      "Epoch 46/50\n",
      "23/23 - 0s - loss: 7500590.0000\n",
      "Epoch 47/50\n",
      "23/23 - 0s - loss: 7561861.0000\n",
      "Epoch 48/50\n",
      "23/23 - 0s - loss: 7543410.0000\n",
      "Epoch 49/50\n",
      "23/23 - 0s - loss: 7602580.5000\n",
      "Epoch 50/50\n",
      "23/23 - 0s - loss: 7553575.0000\n",
      "błąd doapsowania do danych uczących: 1960.5099780094217\n",
      "błąd dopasowania do danych testowych:  2039.6560447729078\n"
     ]
    }
   ],
   "source": [
    "model.fit(x, y, epochs=50, batch_size=32, verbose=2)\n",
    "print(\"błąd doapsowania do danych uczących:\", mean_absolute_error(y, model.predict(x)))\n",
    "print(\"błąd dopasowania do danych testowych: \", mean_absolute_error(y_test, model.predict(x_test)))"
   ]
  },
  {
   "cell_type": "code",
   "execution_count": null,
   "id": "2e0bc617",
   "metadata": {},
   "outputs": [],
   "source": []
  }
 ],
 "metadata": {
  "kernelspec": {
   "display_name": "Python 3",
   "language": "python",
   "name": "python3"
  },
  "language_info": {
   "codemirror_mode": {
    "name": "ipython",
    "version": 3
   },
   "file_extension": ".py",
   "mimetype": "text/x-python",
   "name": "python",
   "nbconvert_exporter": "python",
   "pygments_lexer": "ipython3",
   "version": "3.8.5"
  }
 },
 "nbformat": 4,
 "nbformat_minor": 5
}
